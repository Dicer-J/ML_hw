{
 "cells": [
  {
   "cell_type": "code",
   "execution_count": 1,
   "id": "2fc5b6ae",
   "metadata": {
    "_cell_guid": "b1076dfc-b9ad-4769-8c92-a6c4dae69d19",
    "_uuid": "8f2839f25d086af736a60e9eeb907d3b93b6e0e5",
    "execution": {
     "iopub.execute_input": "2023-03-19T07:07:37.250703Z",
     "iopub.status.busy": "2023-03-19T07:07:37.249898Z",
     "iopub.status.idle": "2023-03-19T07:07:38.643288Z",
     "shell.execute_reply": "2023-03-19T07:07:38.642076Z"
    },
    "papermill": {
     "duration": 1.401209,
     "end_time": "2023-03-19T07:07:38.646244",
     "exception": false,
     "start_time": "2023-03-19T07:07:37.245035",
     "status": "completed"
    },
    "tags": []
   },
   "outputs": [
    {
     "name": "stdout",
     "output_type": "stream",
     "text": [
      "/kaggle/input/indian-pines/Indian_pines_corrected.mat\n",
      "/kaggle/input/indian-pines/Indian_pines_gt.mat\n"
     ]
    }
   ],
   "source": [
    "# This Python 3 environment comes with many helpful analytics libraries installed\n",
    "# It is defined by the kaggle/python Docker image: https://github.com/kaggle/docker-python\n",
    "# For example, here's several helpful packages to load\n",
    "\n",
    "import numpy as np # linear algebra\n",
    "import pandas as pd # data processing, CSV file I/O (e.g. pd.read_csv)\n",
    "from scipy.io import loadmat\n",
    "from sklearn.tree import DecisionTreeClassifier\n",
    "from sklearn.ensemble import RandomForestClassifier\n",
    "from sklearn.model_selection import train_test_split\n",
    "\n",
    "# Input data files are available in the read-only \"../input/\" directory\n",
    "# For example, running this (by clicking run or pressing Shift+Enter) will list all files under the input directory\n",
    "\n",
    "import os\n",
    "for dirname, _, filenames in os.walk('/kaggle/input'):\n",
    "    for filename in filenames:\n",
    "        print(os.path.join(dirname, filename))\n",
    "\n",
    "# You can write up to 20GB to the current directory (/kaggle/working/) that gets preserved as output when you create a version using \"Save & Run All\" \n",
    "# You can also write temporary files to /kaggle/temp/, but they won't be saved outside of the current session"
   ]
  },
  {
   "cell_type": "code",
   "execution_count": 2,
   "id": "91dc6133",
   "metadata": {
    "execution": {
     "iopub.execute_input": "2023-03-19T07:07:38.652258Z",
     "iopub.status.busy": "2023-03-19T07:07:38.651404Z",
     "iopub.status.idle": "2023-03-19T07:07:38.656604Z",
     "shell.execute_reply": "2023-03-19T07:07:38.655754Z"
    },
    "papermill": {
     "duration": 0.010426,
     "end_time": "2023-03-19T07:07:38.658829",
     "exception": false,
     "start_time": "2023-03-19T07:07:38.648403",
     "status": "completed"
    },
    "tags": []
   },
   "outputs": [],
   "source": [
    "def LoadData():\n",
    "    data_path = '../input/'\n",
    "    data = loadmat(os.path.join(data_path, 'indian-pines/Indian_pines_corrected.mat'))['indian_pines_corrected']\n",
    "    labels = loadmat(os.path.join(data_path, 'indian-pines/Indian_pines_gt.mat'))['indian_pines_gt']  \n",
    "    return data, labels"
   ]
  },
  {
   "cell_type": "code",
   "execution_count": 3,
   "id": "540b19fe",
   "metadata": {
    "execution": {
     "iopub.execute_input": "2023-03-19T07:07:38.663803Z",
     "iopub.status.busy": "2023-03-19T07:07:38.663489Z",
     "iopub.status.idle": "2023-03-19T07:07:59.704749Z",
     "shell.execute_reply": "2023-03-19T07:07:59.703322Z"
    },
    "papermill": {
     "duration": 21.047229,
     "end_time": "2023-03-19T07:07:59.707886",
     "exception": false,
     "start_time": "2023-03-19T07:07:38.660657",
     "status": "completed"
    },
    "tags": []
   },
   "outputs": [
    {
     "name": "stdout",
     "output_type": "stream",
     "text": [
      "随机森林：训练集：1.0 测试集：0.8004121750158529\n"
     ]
    }
   ],
   "source": [
    "if __name__ == '__main__':\n",
    "    # 读取数据\n",
    "    data, label = LoadData()\n",
    "    data = data.reshape(-1, 200)\n",
    "    label = label.reshape(-1, )\n",
    "    data_train, data_test, label_train, label_test = train_test_split(data, label, test_size=0.3)\n",
    "    rfc = RandomForestClassifier(class_weight='balanced',random_state=37)\n",
    "    rfc = rfc.fit(data_train, label_train)\n",
    "    score_train = rfc.score(data_train, label_train)\n",
    "    score_test = rfc.score(data_test, label_test)\n",
    "    print(\"随机森林：\" + \"训练集：\" + str(score_train) + \" 测试集：\" + str(score_test))"
   ]
  }
 ],
 "metadata": {
  "kernelspec": {
   "display_name": "Python 3",
   "language": "python",
   "name": "python3"
  },
  "language_info": {
   "codemirror_mode": {
    "name": "ipython",
    "version": 3
   },
   "file_extension": ".py",
   "mimetype": "text/x-python",
   "name": "python",
   "nbconvert_exporter": "python",
   "pygments_lexer": "ipython3",
   "version": "3.7.12"
  },
  "papermill": {
   "default_parameters": {},
   "duration": 34.412765,
   "end_time": "2023-03-19T07:08:00.533579",
   "environment_variables": {},
   "exception": null,
   "input_path": "__notebook__.ipynb",
   "output_path": "__notebook__.ipynb",
   "parameters": {},
   "start_time": "2023-03-19T07:07:26.120814",
   "version": "2.4.0"
  }
 },
 "nbformat": 4,
 "nbformat_minor": 5
}
